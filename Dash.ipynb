{
 "cells": [
  {
   "cell_type": "code",
   "execution_count": null,
   "id": "d010928a-e1e8-4626-a204-be15398a3e48",
   "metadata": {},
   "outputs": [],
   "source": [
    "!pip install dash"
   ]
  },
  {
   "cell_type": "code",
   "execution_count": 2,
   "id": "fe7e6744-28cb-4788-91c4-da11f9acb857",
   "metadata": {},
   "outputs": [
    {
     "data": {
      "text/html": [
       "\n",
       "        <iframe\n",
       "            width=\"100%\"\n",
       "            height=\"650\"\n",
       "            src=\"http://127.0.0.1:8050/\"\n",
       "            frameborder=\"0\"\n",
       "            allowfullscreen\n",
       "            \n",
       "        ></iframe>\n",
       "        "
      ],
      "text/plain": [
       "<IPython.lib.display.IFrame at 0x1eaf846b9e0>"
      ]
     },
     "metadata": {},
     "output_type": "display_data"
    }
   ],
   "source": [
    "import pandas as pd\n",
    "import dash\n",
    "from dash import dcc, html\n",
    "from dash.dependencies import Input, Output\n",
    "import plotly.express as px\n",
    "# Load SpaceX data\n",
    "spacex_df = pd.read_csv(\"C:/Users/ZNgomti/Documents/spacex_launch_dash.csv\")\n",
    "\n",
    "min_payload = spacex_df['Payload Mass (kg)'].min()\n",
    "max_payload = spacex_df['Payload Mass (kg)'].max()\n",
    "\n",
    "app = dash.Dash(__name__)\n",
    "\n",
    "# Dropdown options\n",
    "site_options = [{'label': 'All Sites', 'value': 'ALL'}] + \\\n",
    "               [{'label': site, 'value': site} for site in spacex_df['Launch Site'].unique()]\n",
    "\n",
    "app.layout = html.Div(children=[\n",
    "    html.H1('SpaceX Launch Records Dashboard', style={'textAlign': 'center', 'color': '#503D36'}),\n",
    "\n",
    "    # TASK 1: Launch Site Dropdown\n",
    "    dcc.Dropdown(id='site-dropdown',\n",
    "                 options=site_options,\n",
    "                 value='ALL',\n",
    "                 placeholder='Select a Launch Site here',\n",
    "                 searchable=True),\n",
    "\n",
    "    html.Br(),\n",
    "\n",
    "    # TASK 2: Pie Chart Output\n",
    "    html.Div(dcc.Graph(id='success-pie-chart')),\n",
    "\n",
    "    html.Br(),\n",
    "\n",
    "    html.P(\"Payload range (Kg):\"),\n",
    "\n",
    "    # TASK 3: Payload RangeSlider\n",
    "    dcc.RangeSlider(id='payload-slider',\n",
    "                    min=0, max=10000, step=1000,\n",
    "                    marks={i: f'{i}' for i in range(0, 10001, 2500)},\n",
    "                    value=[min_payload, max_payload]),\n",
    "\n",
    "    # TASK 4: Scatter Plot Output\n",
    "    html.Div(dcc.Graph(id='success-payload-scatter-chart'))\n",
    "])\n",
    "\n",
    "# TASK 2: Callback for Pie Chart\n",
    "@app.callback(Output(component_id='success-pie-chart', component_property='figure'),\n",
    "              Input(component_id='site-dropdown', component_property='value'))\n",
    "def get_pie_chart(entered_site):\n",
    "    if entered_site == 'ALL':\n",
    "        fig = px.pie(spacex_df, values='class', names='Launch Site',\n",
    "                     title='Total Success Launches by Site')\n",
    "    else:\n",
    "        filtered_df = spacex_df[spacex_df['Launch Site'] == entered_site]\n",
    "        class_counts = filtered_df['class'].value_counts().reset_index()\n",
    "        class_counts.columns = ['class', 'count']\n",
    "        fig = px.pie(class_counts, values='count', names='class',\n",
    "                     title=f'Total Success vs. Failure for site {entered_site}')\n",
    "    return fig\n",
    "\n",
    "# TASK 4: Callback for Scatter Plot\n",
    "@app.callback(Output(component_id='success-payload-scatter-chart', component_property='figure'),\n",
    "              [Input(component_id='site-dropdown', component_property='value'),\n",
    "               Input(component_id=\"payload-slider\", component_property=\"value\")])\n",
    "def get_scatter_plot(entered_site, payload_range):\n",
    "    filtered_df = spacex_df[(spacex_df['Payload Mass (kg)'] >= payload_range[0]) &\n",
    "                            (spacex_df['Payload Mass (kg)'] <= payload_range[1])]\n",
    "\n",
    "    if entered_site == 'ALL':\n",
    "        fig = px.scatter(filtered_df, x='Payload Mass (kg)', y='class',\n",
    "                         color='Booster Version Category',\n",
    "                         title='Payload vs. Outcome for All Sites')\n",
    "    else:\n",
    "        site_df = filtered_df[filtered_df['Launch Site'] == entered_site]\n",
    "        fig = px.scatter(site_df, x='Payload Mass (kg)', y='class',\n",
    "                         color='Booster Version Category',\n",
    "                         title=f'Payload vs. Outcome for site {entered_site}')\n",
    "    return fig\n",
    "\n",
    "if __name__ == '__main__':\n",
    "    app.run(debug=True)\n"
   ]
  },
  {
   "cell_type": "code",
   "execution_count": null,
   "id": "fe06a6c3-8c47-43f8-a4f2-40dfbc0a45a8",
   "metadata": {},
   "outputs": [],
   "source": []
  }
 ],
 "metadata": {
  "kernelspec": {
   "display_name": "Python 3 (ipykernel)",
   "language": "python",
   "name": "python3"
  },
  "language_info": {
   "codemirror_mode": {
    "name": "ipython",
    "version": 3
   },
   "file_extension": ".py",
   "mimetype": "text/x-python",
   "name": "python",
   "nbconvert_exporter": "python",
   "pygments_lexer": "ipython3",
   "version": "3.12.4"
  }
 },
 "nbformat": 4,
 "nbformat_minor": 5
}
